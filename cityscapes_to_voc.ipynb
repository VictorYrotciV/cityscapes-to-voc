{
 "cells": [
  {
   "cell_type": "markdown",
   "metadata": {},
   "source": [
    "### Cityscapes_to_voc\n",
    "##### This code converts cityscapes to Pascal VOC 2007 format to be used for object detection tasks\n",
    "##### Written by: Hamza Rawal (mscs18004@itu.edu.pk / hamzarawal@gmail.com)\n"
   ]
  },
  {
   "cell_type": "code",
   "execution_count": 21,
   "metadata": {},
   "outputs": [],
   "source": [
    "from pascal_voc_writer import Writer\n",
    "import matplotlib.pyplot as plt\n",
    "import numpy as np\n",
    "import os\n",
    "import json\n",
    "import glob\n",
    "import time\n",
    "from shutil import move, copy"
   ]
  },
  {
   "cell_type": "markdown",
   "metadata": {},
   "source": [
    "#### Global Parameters"
   ]
  },
  {
   "cell_type": "code",
   "execution_count": 9,
   "metadata": {},
   "outputs": [],
   "source": [
    "#----------\n",
    "#arguments\n",
    "#----------\n",
    "cityscapes_dir = '../datasets/cityscapes/cityscapes/'\n",
    "save_path = './cityscapes_voc_annotations/'\n",
    "\n",
    "cityscapes_dir_gt = os.path.join(cityscapes_dir, 'gtFine')"
   ]
  },
  {
   "cell_type": "markdown",
   "metadata": {},
   "source": [
    "#### Pascal VOC classes"
   ]
  },
  {
   "cell_type": "code",
   "execution_count": 10,
   "metadata": {},
   "outputs": [],
   "source": [
    "#--------------------------------------------------------------\n",
    "# Valid classes dictionary.\n",
    "# motorcycle is renamed to motorbike, change the key if this is\n",
    "# not is required\n",
    "#--------------------------------------------------------------\n",
    "classes = {'bicycle':'bicycle', 'bus':'bus', 'car':'car', 'motorcycle':'motorbike', \n",
    "               'person':'person', 'rider': 'rider', 'train':'train', 'truck':'truck'}\n",
    "classes_keys = list(classes.keys())\n"
   ]
  },
  {
   "cell_type": "markdown",
   "metadata": {},
   "source": [
    "#### Function for making Directories"
   ]
  },
  {
   "cell_type": "code",
   "execution_count": 11,
   "metadata": {},
   "outputs": [],
   "source": [
    "#------------------------\n",
    "#function to make folder\n",
    "#------------------------\n",
    "def make_dir(path):\n",
    "    if not os.path.isdir(path):\n",
    "        os.makedirs(path)"
   ]
  },
  {
   "cell_type": "markdown",
   "metadata": {},
   "source": [
    "#### Function for converting Polygons to Bounding Boxes"
   ]
  },
  {
   "cell_type": "code",
   "execution_count": 12,
   "metadata": {},
   "outputs": [],
   "source": [
    "#----------------------------------------------------------------------------------------------------------------\n",
    "#convert polygon to bounding box\n",
    "#code from: \n",
    "#https://stackoverflow.com/questions/46335488/how-to-efficiently-find-the-bounding-box-of-a-collection-of-points\n",
    "#----------------------------------------------------------------------------------------------------------------\n",
    "def polygon_to_bbox(polygon):\n",
    "    x_coordinates, y_coordinates = zip(*polygon)\n",
    "    return [min(x_coordinates), min(y_coordinates), max(x_coordinates), max(y_coordinates)]"
   ]
  },
  {
   "cell_type": "markdown",
   "metadata": {},
   "source": [
    "#### Function to read json files and return Polygons with classes"
   ]
  },
  {
   "cell_type": "code",
   "execution_count": 17,
   "metadata": {},
   "outputs": [],
   "source": [
    "#--------------------------------------------\n",
    "#read a json file and convert to voc format\n",
    "#--------------------------------------------\n",
    "def read_json(file):\n",
    "    \n",
    "    #if no relevant objects found in the image,\n",
    "    #don't save the xml for the image\n",
    "    relevant_file = False\n",
    "    \n",
    "    data = []\n",
    "    with open(file, 'r') as f:\n",
    "        file_data = json.load(f)\n",
    "\n",
    "        for object in file_data['objects']:\n",
    "            label, polygon = object['label'], object['polygon']\n",
    "            \n",
    "            #process only if label found in voc\n",
    "            if label in classes_keys:\n",
    "                polygon = np.array([x for x in polygon])\n",
    "                bbox = polygon_to_bbox(polygon)\n",
    "                data.append([classes[label]]+bbox)\n",
    "\n",
    "        #if relevant objects found in image, set the flag to True\n",
    "        if data:\n",
    "            relevant_file = True\n",
    "\n",
    "    return data, relevant_file"
   ]
  },
  {
   "cell_type": "markdown",
   "metadata": {},
   "source": [
    "#### Create and save xml file for each image in Cityscapes"
   ]
  },
  {
   "cell_type": "code",
   "execution_count": 14,
   "metadata": {},
   "outputs": [],
   "source": [
    "#---------------------------\n",
    "#function to save xml file\n",
    "#---------------------------\n",
    "def save_xml(img_path, img_shape, data, save_path):\n",
    "    writer = Writer(img_path,img_shape[0], img_shape[1])\n",
    "    for element in data:\n",
    "        writer.addObject(element[0],element[1],element[2],element[3],element[4])\n",
    "    writer.save(save_path) "
   ]
  },
  {
   "cell_type": "markdown",
   "metadata": {},
   "source": [
    "#### Main Code"
   ]
  },
  {
   "cell_type": "code",
   "execution_count": 18,
   "metadata": {},
   "outputs": [
    {
     "name": "stdout",
     "output_type": "stream",
     "text": [
      "Total Time taken:  502.8435652256012\n"
     ]
    }
   ],
   "source": [
    "#------------------------------------------\n",
    "#reading json files from each subdirectory\n",
    "#------------------------------------------\n",
    "valid_files = []\n",
    "trainval_files = []\n",
    "test_files = []\n",
    "\n",
    "#make Annotations target directory if already doesn't exist\n",
    "ann_dir = os.path.join(save_path, 'VOC2007','Annotations')\n",
    "make_dir(ann_dir)\n",
    "\n",
    "start = time.time()\n",
    "for category in os.listdir(cityscapes_dir_gt):\n",
    "    \n",
    "    #no GT for test data\n",
    "    if category == 'test': continue\n",
    "    \n",
    "    for city in os.listdir(os.path.join(cityscapes_dir_gt, category)):\n",
    "\n",
    "        #read files\n",
    "        files = glob.glob(os.path.join(cityscapes_dir, 'gtFine', category, city)+'/*.json')\n",
    "        \n",
    "        #process json files\n",
    "        for file in files:\n",
    "            data, relevant_file = read_json(file)\n",
    "            \n",
    "            if relevant_file:\n",
    "                base_filename = os.path.basename(file)[:-21]\n",
    "                xml_filepath = os.path.join(ann_dir,base_filename + '_leftImg8bit.xml')\n",
    "                img_name = base_filename+'_leftImg8bit.png'\n",
    "                img_path = os.path.join(cityscapes_dir, 'leftImg8bit', category, city, base_filename+'_leftImg8bit.png')\n",
    "                img_shape = plt.imread(img_path).shape\n",
    "                valid_files.append([img_path, img_name])\n",
    "                \n",
    "                #make list of trainval and test files for voc format \n",
    "                #lists will be stored in txt files\n",
    "                trainval_files.append(img_name[:-4]) if category == 'train' else test_files.append(img_name[:-4])\n",
    "                \n",
    "                #save xml file\n",
    "                save_xml(img_path, img_shape, data, xml_filepath)\n",
    "                \n",
    "end = time.time() - start\n",
    "print('Total Time taken: ', end)"
   ]
  },
  {
   "cell_type": "markdown",
   "metadata": {},
   "source": [
    "#### Copy images from all sub-dirs of Cityscapes to a single directory for voc format"
   ]
  },
  {
   "cell_type": "code",
   "execution_count": 165,
   "metadata": {},
   "outputs": [
    {
     "name": "stdout",
     "output_type": "stream",
     "text": [
      "Total Time taken:  5.453717470169067\n"
     ]
    }
   ],
   "source": [
    "#----------------------------\n",
    "#copy files into target path\n",
    "#----------------------------\n",
    "images_savepath = os.path.join(save_path, 'VOC2007', 'JPEGImages')\n",
    "make_dir(images_savepath)\n",
    "\n",
    "start = time.time()\n",
    "for file in valid_files:\n",
    "    copy(file[0], os.path.join(images_savepath, file[1]))\n",
    "    \n",
    "print('Total Time taken: ', end)"
   ]
  },
  {
   "cell_type": "markdown",
   "metadata": {},
   "source": [
    "#### Create txt files for trainval and test images"
   ]
  },
  {
   "cell_type": "code",
   "execution_count": 19,
   "metadata": {},
   "outputs": [],
   "source": [
    "#---------------------------------------------\n",
    "#create text files of trainval and test files\n",
    "#---------------------------------------------\n",
    "textfiles_savepath = os.path.join(save_path, 'VOC2007', 'ImageSets', 'Main')\n",
    "make_dir(textfiles_savepath)\n",
    "\n",
    "traival_files_wr = [x+'\\n' for x in trainval_files]\n",
    "test_files_wr = [x+'\\n' for x in test_files]\n",
    "\n",
    "with open(os.path.join(textfiles_savepath, 'trainval.txt'), 'w') as f:\n",
    "    f.writelines(traival_files_wr)\n",
    "    \n",
    "with open(os.path.join(textfiles_savepath, 'test.txt'), 'w') as f:\n",
    "    f.writelines(test_files_wr)"
   ]
  }
 ],
 "metadata": {
  "kernelspec": {
   "display_name": "Python 3",
   "language": "python",
   "name": "python3"
  },
  "language_info": {
   "codemirror_mode": {
    "name": "ipython",
    "version": 3
   },
   "file_extension": ".py",
   "mimetype": "text/x-python",
   "name": "python",
   "nbconvert_exporter": "python",
   "pygments_lexer": "ipython3",
   "version": "3.6.10"
  }
 },
 "nbformat": 4,
 "nbformat_minor": 2
}
